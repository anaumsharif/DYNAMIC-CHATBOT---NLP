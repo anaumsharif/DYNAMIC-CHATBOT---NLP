{
 "cells": [
  {
   "cell_type": "code",
   "execution_count": 13,
   "id": "a0b8ccdb",
   "metadata": {},
   "outputs": [],
   "source": [
    "import random\n",
    "import string #punctuations, data preprocessing\n",
    "import numpy as np\n",
    "import io\n",
    "from sklearn.feature_extraction.text import TfidfVectorizer #data encoding\n",
    "from sklearn.metrics.pairwise import cosine_similarity\n",
    "import warnings\n",
    "warnings.filterwarnings('ignore')\n",
    "import nltk\n",
    "from nltk.stem import WordNetLemmatizer #5th step - data preprocessing"
   ]
  },
  {
   "cell_type": "markdown",
   "id": "d6ce1865",
   "metadata": {},
   "source": [
    "Function for tokenization"
   ]
  },
  {
   "cell_type": "code",
   "execution_count": 14,
   "id": "d46adfb3",
   "metadata": {},
   "outputs": [],
   "source": [
    "def tokenize(user_query):\n",
    "    #file = open('corpus.txt','r',errors='ignore')\n",
    "    corpus = wikipedia.summary(user_query)\n",
    "    #corpus = file.read()\n",
    "    sentence_tokens = nltk.sent_tokenize(corpus)\n",
    "    word_tokens = nltk.word_tokenize(corpus)\n",
    "    return sentence_tokens, word_tokens"
   ]
  },
  {
   "cell_type": "markdown",
   "id": "eefa12cb",
   "metadata": {},
   "source": [
    "Function for Lemmatization"
   ]
  },
  {
   "cell_type": "code",
   "execution_count": 15,
   "id": "9267142c",
   "metadata": {},
   "outputs": [],
   "source": [
    "lemmatizer = WordNetLemmatizer()"
   ]
  },
  {
   "cell_type": "code",
   "execution_count": 16,
   "id": "91f401d2",
   "metadata": {},
   "outputs": [],
   "source": [
    "def lemtokens(tokens):\n",
    "    lst=[] \n",
    "    for i in tokens: #every individual token have to be lemmatized\n",
    "        lst.append(lemmatizer.lemmatize(i))\n",
    "    return lst"
   ]
  },
  {
   "cell_type": "code",
   "execution_count": 17,
   "id": "40cfa8a0",
   "metadata": {},
   "outputs": [],
   "source": [
    "#to remove the punctuation\n",
    "punct = dict((ord(i),None) for i in string.punctuation)"
   ]
  },
  {
   "cell_type": "code",
   "execution_count": null,
   "id": "858efc10",
   "metadata": {},
   "outputs": [],
   "source": [
    "punct"
   ]
  },
  {
   "cell_type": "code",
   "execution_count": null,
   "id": "fa6b9c12",
   "metadata": {},
   "outputs": [],
   "source": [
    "chr(33)"
   ]
  },
  {
   "cell_type": "code",
   "execution_count": 18,
   "id": "34103117",
   "metadata": {},
   "outputs": [],
   "source": [
    "def lemmer(text):\n",
    "    #Tokenize\n",
    "    tokenized_text=nltk.word_tokenize(text.lower().translate(punct))\n",
    "    lemmatized_values = lemtokens(tokenized_text)\n",
    "    return lemmatized_values"
   ]
  },
  {
   "cell_type": "markdown",
   "id": "8907a21d",
   "metadata": {},
   "source": [
    "Function for Greeting - Rule Based"
   ]
  },
  {
   "cell_type": "code",
   "execution_count": 19,
   "id": "67916806",
   "metadata": {},
   "outputs": [],
   "source": [
    "greeting_inputs = ['hello','hi','hey','greetings']\n",
    "greeting_responses = ['I am a chatbot','hello','hi','whats up','hi there']\n",
    "\n",
    "def greeting(text):\n",
    "    #Tokenize\n",
    "    for token in text.split():\n",
    "        #inputs\n",
    "        if token.lower() in greeting_inputs:\n",
    "            return random.choice(greeting_responses)"
   ]
  },
  {
   "cell_type": "markdown",
   "id": "26970f21",
   "metadata": {},
   "source": [
    "tfidf = [t1,t2,t3,t4,user_query]\n",
    "\n",
    "sim = [s1,s2,s3,s4,s5]"
   ]
  },
  {
   "cell_type": "markdown",
   "id": "302a161c",
   "metadata": {},
   "source": [
    "Function to generate response for the queries from the corpus!\n",
    "\n",
    "Data Encoding - TFIDF\n",
    "Similarity Metric - cosine similarity\n",
    "choosing the vector with maximum similarity in the corpus"
   ]
  },
  {
   "cell_type": "code",
   "execution_count": 20,
   "id": "64b16e80",
   "metadata": {},
   "outputs": [],
   "source": [
    "def respond(user_query):\n",
    "    bot_response=''\n",
    "    \n",
    "    #Tokenize\n",
    "    sent_tokens,word_tokens = tokenize(user_query)\n",
    "    sent_tokens.append(user_query)\n",
    "    \n",
    "    #Vectorizing\n",
    "    tfidf_obj = TfidfVectorizer(tokenizer=lemmer,stop_words=\"english\")\n",
    "    tfidf = tfidf_obj.fit_transform(sent_tokens)\n",
    "    \n",
    "    #cosine similarity\n",
    "    sim_values = cosine_similarity(tfidf[-1],tfidf) #cosine similarity of the last element with the entire list\n",
    "    \n",
    "    #selecting the response or token with max similarity\n",
    "    index = sim_values.argsort()[0][-2]\n",
    "    \n",
    "    flattened_sim = sim_values.flatten()\n",
    "    flattened_sim.sort()\n",
    "    \n",
    "    required_tfidf = flattened_sim[-2]\n",
    "    \n",
    "    if(required_tfidf==0):\n",
    "        bot_response += 'I cannot understand'\n",
    "        return bot_response\n",
    "    else:\n",
    "        bot_response += bot_response + sent_tokens[index]\n",
    "        return bot_response"
   ]
  },
  {
   "cell_type": "markdown",
   "id": "8846577a",
   "metadata": {},
   "source": [
    "main() function"
   ]
  },
  {
   "cell_type": "code",
   "execution_count": null,
   "id": "9f6f8271",
   "metadata": {},
   "outputs": [
    {
     "name": "stdout",
     "output_type": "stream",
     "text": [
      "Chatbot\n",
      "hi\n",
      "Bot: hi\n",
      "apple fruit\n",
      "Bot:  An apple is an edible fruit produced by an apple tree (Malus domestica).\n",
      "orange fruit\n",
      "Bot:  As of 1987, orange trees were found to be the most cultivated fruit tree in the world.\n",
      "telescope\n",
      "Bot:  In the 20th century, many new types of telescopes were invented, including radio telescopes in the 1930s and infrared telescopes in the 1960s.\n",
      "laptop\n",
      "Bot:  Examples of specialized models of laptops include rugged notebooks for use in construction or military applications, as well as low production cost laptops such as those from the One Laptop per Child (OLPC) organization, which incorporate features like solar charging and semi-flexible components not found on most laptop computers.\n"
     ]
    }
   ],
   "source": [
    "print(\"Chatbot\")\n",
    "flag = 1\n",
    "\n",
    "while(flag == 1):\n",
    "    user_query = input()\n",
    "    user_query = user_query.lower()\n",
    "    \n",
    "    #exit\n",
    "    if(user_query=='exit'):\n",
    "        flag=0\n",
    "        print('Bot: Bye C u!')\n",
    "    \n",
    "    else:\n",
    "        #greeting\n",
    "        if(greeting(user_query) != None):\n",
    "            print(\"Bot: \"+greeting(user_query))\n",
    "        \n",
    "        #general\n",
    "        else:\n",
    "            res = respond(user_query)\n",
    "            print(\"Bot: \",res)"
   ]
  },
  {
   "cell_type": "code",
   "execution_count": 1,
   "id": "81b76087",
   "metadata": {},
   "outputs": [],
   "source": [
    "import wikipedia"
   ]
  },
  {
   "cell_type": "code",
   "execution_count": 3,
   "id": "5240bc94",
   "metadata": {},
   "outputs": [
    {
     "data": {
      "text/plain": [
       "'An orange is a fruit of various citrus species in the family Rutaceae (see list of plants known as orange); it primarily refers to Citrus × sinensis, which is also called sweet orange, to distinguish it from the related Citrus × aurantium, referred to as bitter orange. The sweet orange reproduces asexually (apomixis through nucellar embryony); varieties of sweet orange arise through mutations.The orange is a hybrid between pomelo (Citrus maxima) and mandarin (Citrus reticulata). The chloroplast genome, and therefore the maternal line, is that of pomelo. The sweet orange has had its full genome sequenced.The orange originated in a region encompassing Southern China, Northeast India, and Myanmar, and the earliest mention of the sweet orange was in Chinese literature in 314 BC. As of 1987, orange trees were found to be the most cultivated fruit tree in the world. Orange trees are widely grown in tropical and subtropical climates for their sweet fruit. The fruit of the orange tree can be eaten fresh, or processed for its juice or fragrant peel. As of 2012, sweet oranges accounted for approximately 70% of citrus production.In 2019, 79 million tonnes of oranges were grown worldwide, with Brazil producing 22% of the total, followed by China and India.'"
      ]
     },
     "execution_count": 3,
     "metadata": {},
     "output_type": "execute_result"
    }
   ],
   "source": [
    "wikipedia.summary(\"orange fruit\")"
   ]
  },
  {
   "cell_type": "code",
   "execution_count": null,
   "id": "d9d9db14",
   "metadata": {},
   "outputs": [],
   "source": []
  }
 ],
 "metadata": {
  "kernelspec": {
   "display_name": "Python 3 (ipykernel)",
   "language": "python",
   "name": "python3"
  },
  "language_info": {
   "codemirror_mode": {
    "name": "ipython",
    "version": 3
   },
   "file_extension": ".py",
   "mimetype": "text/x-python",
   "name": "python",
   "nbconvert_exporter": "python",
   "pygments_lexer": "ipython3",
   "version": "3.9.13"
  }
 },
 "nbformat": 4,
 "nbformat_minor": 5
}
